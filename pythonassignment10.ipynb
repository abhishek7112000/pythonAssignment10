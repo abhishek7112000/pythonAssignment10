{
 "cells": [
  {
   "cell_type": "code",
   "execution_count": null,
   "id": "9a5b66d9-a51d-49fc-a260-1356187e395d",
   "metadata": {},
   "outputs": [],
   "source": [
    "1. How do you distinguish between shutil.copy() and shutil.copytree()?"
   ]
  },
  {
   "cell_type": "code",
   "execution_count": null,
   "id": "c1d8579b-f2e4-4334-ba93-8213aae4e031",
   "metadata": {},
   "outputs": [],
   "source": [
    "ans-  shutil. copy() will copy a single file, shutil. copytree() will copy an entire folder and every folder and file contained in it."
   ]
  },
  {
   "cell_type": "code",
   "execution_count": null,
   "id": "15f8838a-aea0-400b-841d-6609f0349c4f",
   "metadata": {},
   "outputs": [],
   "source": [
    "2. What function is used to rename files??"
   ]
  },
  {
   "cell_type": "code",
   "execution_count": null,
   "id": "6690800f-6a9c-4e44-a6cf-4e1e85d1fb4c",
   "metadata": {},
   "outputs": [],
   "source": [
    "ans- rename() method to rename file."
   ]
  },
  {
   "cell_type": "code",
   "execution_count": null,
   "id": "92d9f3eb-0ac9-4ee6-ac2d-da6466a4cfc8",
   "metadata": {},
   "outputs": [],
   "source": [
    "3. What is the difference between the delete functions in the send2trash and shutil modules?"
   ]
  },
  {
   "cell_type": "code",
   "execution_count": null,
   "id": "369d9c9c-8e8b-4bf0-9bdb-fb501f39ff81",
   "metadata": {},
   "outputs": [],
   "source": [
    "ans-the delete functions in the send2trash and shutil modules? The send2trash functions will move a file or folder to the recycle bin, while shutil functions will permanently delete files and folders."
   ]
  },
  {
   "cell_type": "code",
   "execution_count": null,
   "id": "a4ef8f19-a41a-4217-9b2d-29f0528c7454",
   "metadata": {},
   "outputs": [],
   "source": [
    "4.ZipFile objects have a close() method just like File objects’ close() method. What ZipFile method is\n",
    "equivalent to File objects’ open() method?"
   ]
  },
  {
   "cell_type": "code",
   "execution_count": null,
   "id": "3a6d989a-2270-465f-a39c-601ea5482567",
   "metadata": {},
   "outputs": [],
   "source": [
    "ans-The zipfile. ZipFile() function is equivalent to the open() function; the first argument is the filename, and the second argument is the mode to open the ZIP file in (read, write, or append)."
   ]
  },
  {
   "cell_type": "code",
   "execution_count": null,
   "id": "e1aae440-3e5f-4c48-9afd-80cebbe3097f",
   "metadata": {},
   "outputs": [],
   "source": [
    "5. Create a programme that searches a folder tree for files with a certain file extension (such as .pdf\n",
    "or .jpg). Copy these files from whatever location they are in to a new folder."
   ]
  },
  {
   "cell_type": "code",
   "execution_count": null,
   "id": "8331c8bb-16c3-4b1d-af21-8f8aba2acfab",
   "metadata": {},
   "outputs": [],
   "source": [
    "ans-"
   ]
  }
 ],
 "metadata": {
  "kernelspec": {
   "display_name": "Python 3 (ipykernel)",
   "language": "python",
   "name": "python3"
  },
  "language_info": {
   "codemirror_mode": {
    "name": "ipython",
    "version": 3
   },
   "file_extension": ".py",
   "mimetype": "text/x-python",
   "name": "python",
   "nbconvert_exporter": "python",
   "pygments_lexer": "ipython3",
   "version": "3.10.6"
  }
 },
 "nbformat": 4,
 "nbformat_minor": 5
}
